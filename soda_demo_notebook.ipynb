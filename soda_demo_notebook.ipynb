{
 "cells": [
  {
   "cell_type": "markdown",
   "id": "02c95903-77f8-4bba-bc34-6200f120cfcd",
   "metadata": {},
   "source": [
    "# Soda Python Scan - Demo"
   ]
  },
  {
   "cell_type": "markdown",
   "id": "e27a0e05-1a56-44e0-8217-cf538560d987",
   "metadata": {},
   "source": [
    "- Das Notebook enthält Demo Codes für Soda, die sich hauptsächlich mit Python Scans mit Soda Core in Kombination mit Soda Cloud und Postgres als Data Source fokussiert (am Ende des Notebooks werden noch einige Features von Soda Cloud präsentiert)"
   ]
  },
  {
   "cell_type": "code",
   "id": "12cc2141-8f01-4816-bb30-b0d9b9394035",
   "metadata": {},
   "source": [
    "from soda.scan import Scan\n",
    "from soda.sampler.sampler import Sampler\n",
    "from soda.sampler.sample_context import SampleContext\n",
    "import pandas as pd\n",
    "import psycopg2\n",
    "from psycopg2 import sql\n",
    "from IPython.display import Code, Image\n",
    "from datetime import datetime\n",
    "import json\n",
    "import sys\n"
   ],
   "outputs": [],
   "execution_count": null
  },
  {
   "metadata": {},
   "cell_type": "code",
   "source": [
    "host = 'localhost'\n",
    "database = 'demo'\n",
    "user = 'postgres'\n",
    "password = 'test'\n",
    "schema = 'public'\n",
    "table_name = 'bus_breakdown_and_delays'\n",
    "\n",
    "def connect(database='demo'):\n",
    "    \"\"\"Connect to database\"\"\"\n",
    "    conn = None\n",
    "    try:\n",
    "        print('Connecting...')\n",
    "        conn = psycopg2.connect(\n",
    "            host=host,\n",
    "            database=database,\n",
    "            user=user,\n",
    "            password=password)\n",
    "    except (Exception, psycopg2.DatabaseError) as error:\n",
    "        print(error)\n",
    "        sys.exit(1)\n",
    "    print(f'All good, Connection to {database} successful!')\n",
    "    return conn\n",
    "\n",
    "\n",
    "\n",
    "def sql_to_dataframe(conn, query, column_names):\n",
    "    \"\"\"\n",
    "    Import data from a PostgreSQL database using a SELECT query \n",
    "    \"\"\"\n",
    "    cursor = conn.cursor()\n",
    "    try:\n",
    "        cursor.execute(query)\n",
    "    except (Exception, psycopg2.DatabaseError) as error:\n",
    "        print('Error: %s' % error)\n",
    "        cursor.close()\n",
    "        return 1\n",
    "    # The execute returns a list of tuples:\n",
    "    tuples_list = cursor.fetchall()\n",
    "    cursor.close()\n",
    "    # Now we need to transform the list into a pandas DataFrame:\n",
    "    df = pd.DataFrame(tuples_list, columns=column_names)\n",
    "    return df"
   ],
   "id": "ea05ec755ddf9707",
   "outputs": [],
   "execution_count": null
  },
  {
   "cell_type": "markdown",
   "id": "89c64887-1049-4945-91de-41420f3c1955",
   "metadata": {},
   "source": [
    "## Visualisierung von Demo-Daten\n",
    "- Verbindung zur PostgreSQL Datenbank aufbauen und Laden der Daten in ein Pandas Dataframe"
   ]
  },
  {
   "cell_type": "code",
   "id": "85610d71-0292-442b-86c6-08076983aac8",
   "metadata": {},
   "source": [
    "columns = ['school_year', 'busbreakdown_id', 'run_type', 'bus_no', 'route_number',\n",
    "           'reason', 'schools_serviced', 'occured_on', 'created_on', 'boro',\n",
    "           'bus_company_name', 'how_long_delayed', 'number_of_students_on_the_bus',\n",
    "           'has_contractor_notified_schools', 'has_contractor_notified_parents',\n",
    "           'have_you_alerted_opt', 'informed_on', 'incident_number',\n",
    "           'last_updated_on', 'breakdown_or_running_late', 'school_age_or_prek']\n",
    "\n",
    "query = \"\"\" SELECT * \n",
    "            FROM bus_breakdown_and_delays\n",
    "        \"\"\"\n",
    "\n",
    "conn = connect()\n",
    "bus_df = sql_to_dataframe(conn, query, columns)\n",
    "conn.close()\n",
    "\n",
    "bus_df"
   ],
   "outputs": [],
   "execution_count": null
  },
  {
   "cell_type": "markdown",
   "id": "e227097a-e75f-4c85-afb6-68934ef9449f",
   "metadata": {},
   "source": [
    "## Soda Cloud einrichten und API key erstellen\n",
    "- Erstelle einen Soda Account (free 45-day trial) unter https://cloud.soda.io/signup -> Eingloggen\n",
    "- Navigiere zum **your avatar** > **Profile** und klicke auf **API keys** Tab\n",
    "- Clicke auf das **+** Icon und generiere ein neues API key, secret Paar und speichere die Information local ab"
   ]
  },
  {
   "cell_type": "markdown",
   "id": "57e3ddb9-520f-4842-ab3a-98605a94c563",
   "metadata": {},
   "source": [
    "## Soda Core mit Demo-Datenbank und Soda Cloud verbinden\n",
    "- `configuration.yml` Datei enthält alle Information um sich mit der Datenbank (`data_source`) mit Soda zu verbinden\n",
    "- Auch Information, um sich mit der Soda Cloud zu verbinden können hier eingetragen werden (`soda_cloud`)\n",
    "- Ersetze `api_key_id` und `api_key_secret` in `configuration.yml` mit den eigenen erstellten Werten"
   ]
  },
  {
   "metadata": {},
   "cell_type": "code",
   "source": "(bus_df.head(4))",
   "id": "b6b25f8e1028b38a",
   "outputs": [],
   "execution_count": null
  },
  {
   "cell_type": "code",
   "id": "80fe0a51-8ff9-4b18-b81f-aaf379747abf",
   "metadata": {},
   "source": [
    "# Display connection configuration yml file\n",
    "Code(filename='./configuration.yml', language='YAML')"
   ],
   "outputs": [],
   "execution_count": null
  },
  {
   "cell_type": "markdown",
   "id": "f3e0efec-73da-4b38-90f6-eeb95d1aa2f5",
   "metadata": {},
   "source": [
    "## Definiere Metrics und Checks mit Soda Checks Language (SodaCL)\n",
    "- Checks werden in eine YAML Datei defniert: Es gibt verschiedene Arten von Checks, die definiert werden können\n",
    "- `Built-in Metrics` (zusammen mit ein Threshold Wert) können verwendet werden, um Checks zu definieren (es gibt über 25 verschiedene Built-in Metrics)\n",
    "    - Im Bsp. werden 5 verschiedene Build-in Metrics verwendet\n",
    "        - `row_count`: überprüft die Daten auf ausreichende Einträge\n",
    "        - `missing_count`: überprüft eine Spalte auf fehlende Werte\n",
    "        - `duplicate_count`: überprüft eine Spalte auf duplikate Werte\n",
    "        - `freshness`: überprüft die Daten auf Aktualität mit Referenzvariable `NOW` (default: current_timestamp) unter Berücksichtigung einer Date/Timestamp Spalte\n",
    "        - `invalid count`: testet, ob eine Spalte nicht-valide Werte enthält (valid values können definiert werden)\n",
    "        - auch interessant `Anomaly checks`: analysiert Trends und Pattern in Daten über die Zeit; kann auch für Outlier Detection verwendet werden\n",
    "- `Custom Checks`: Checks, die nicht mit Built-in Metrics definiert werden können, können als Custom Checks durch Verwendung von `User-defined checks` und `Failed rows checks` definiert werden\n",
    "    - `User-defined checks`: ermöglichen common-table expressions (CTE) oder SQL queries zu erstellen, die Soda Library während des Scans verwendet\n",
    "    - `Failed rows checks`: können verwendet werden, um Einträge, die im User-defined check fehlgeschlagen sind an Soda Cloud zu senden\n",
    "    - Im Bsp. wird als Custom Check definiert, der prüft, ob für alle Einträge jeweil der Datum-Wert von `last_updated_on` Spalte größer oder gleich der Datum-Wert von `created_on` Spalte ist (fehlgeschlagene Einträge werden an Soda Cloud gesendet)\n",
    "- `Schema Checks`: können verwendet werden, um das Schema der Daten (z.B. Präsenz von bestimmten Spalten) zu prüfen\n",
    "- `warn` oder `fail`: Für die definierten Checks können Alert Levels definiert werden"
   ]
  },
  {
   "cell_type": "code",
   "id": "f1d66324-4dd0-49eb-a753-2fed49f1d53d",
   "metadata": {},
   "source": [
    "# Display checks configuration yml file\n",
    "Code(filename='./demo_tests.yml', language='YAML')"
   ],
   "outputs": [],
   "execution_count": null
  },
  {
   "cell_type": "markdown",
   "id": "93e69891-ed2f-434a-b9c4-9cc323de8c6e",
   "metadata": {},
   "source": [
    "## Scans programmatisch mit Python ausführen\n",
    "- Soda library, die als Python library zur Verfügung steht, kann benutzt werden, um Scans auszuführen\n",
    "- Erstelle dafür ein `scan` Objekt der Klasse `soda.scan.Scan`\n",
    "- scan Objekte können durch Verwendung verschiedener Methoden konfiguriert werden:\n",
    "    - `add_configuration_yaml_file`: Mit der Methode kann eine `configuration.yml` (Connection Konfiguration) Datei für das scan Objekt gesetzt werden\n",
    "        - Alternativ `add_configuration_yaml_str`: Definiere den Inhalt von `configuration.yml` Datei in ein String und übergebe den Wert an dieser Methode\n",
    "    - `set_data_source_name`: Übergebe ein Name von data_source, welches in der `configuration.yml` Datei definiert ist\n",
    "    - `set_scan_definition_name`: Spezifiziert den Scan Definition Name (wenn verbunden mit Soda Cloud), um Check Ergebnisse separat zu halten (z.B. dev, prod, staging)\n",
    "    - `add_variables`: Variablen können mit der Methode für das scan Objekt gesetzt werden (hier wird z.B. die `NOW` Variable gesetzt, die für den freshness Check verwendet wird -> hier `\"NOW\": \"2021-09-13 00:00:00\"`und `freshness(last_updated_on) < 1d`: Check schlägt fehl, wenn der neueste Timestamp-Eintrag der Spalte älter als \"2021-09-12 00:00:00\" ist)\n",
    "    - `add_sodacl_yaml_file`: mit der Methode können Check YAML Files an das scan Objekt übergeben werden\n",
    "        - Alternativ `add_sodacl_yaml_str`: Definiere Cheks (mit SodaCL) in ein String und übergebe den Wert an dieser Methode\n",
    "    - `execute`: Führt den Scan aus und gibt ein Exitcode zurück (https://docs.soda.io/soda-library/programmatic.html#scan-exit-codes)\n",
    "    - `set_verbose`: Führt den Scan in \"verbose\" Mode (mehr Logging-Information als Standard Mode) durch\n",
    "    - `get_logs_text`: Gibt den Log-Output des Scans als String zurück"
   ]
  },
  {
   "cell_type": "code",
   "id": "53bd8f62-ea64-4af1-8cd8-506f50ba8ea4",
   "metadata": {},
   "source": [
    "scan = Scan()\n",
    "\n",
    "# Set scan definition name, equivalent to CLI -s option\n",
    "scan.set_scan_definition_name(\"soda_demo\")\n",
    "\n",
    "scan.set_data_source_name(\"demo_datasource\")\n",
    "\n",
    "# Add config yml file\n",
    "scan.add_configuration_yaml_file(file_path=\"./configuration.yml\")\n",
    "\n",
    "# Add variables\n",
    "scan.add_variables({\"NOW\": \"2021-09-13 00:00:00\"})\n",
    "\n",
    "# Add check YAML files \n",
    "scan.add_sodacl_yaml_file(\"./demo_tests.yml\")\n",
    "\n",
    "# Execute the scan\n",
    "exit_code = scan.execute()\n",
    "print(\"Exit code:\", exit_code)\n",
    "\n",
    "# Set logs to verbose mode, equivalent to CLI -V option\n",
    "scan.set_verbose(True)\n",
    "\n",
    "# Print results of scan\n",
    "print(scan.get_logs_text())"
   ],
   "outputs": [],
   "execution_count": null
  },
  {
   "cell_type": "markdown",
   "id": "4137806a-a907-46d8-b585-c2003d858fe5",
   "metadata": {},
   "source": [
    "### Checks Results Informationen in Soda Cloud\n",
    "- Da wir in `configuration.yml` eine Connection mit Soda Cloud konfiguriert haben, können die Check Information in der Soda Cloud eingesehen werden\n",
    "- Da wir für den Custom Check `Failed rows checks` definiert haben, werden alle Einträge die den Custom Check nicht erfüllen in der Soda Cloud angezeigt (siehe 1. Bild unten)\n",
    "- Auch Informationen über Schema Checks werden angezeigt (siehe 2. Bild unten)"
   ]
  },
  {
   "cell_type": "code",
   "id": "40a769cb-785d-4411-8e2e-adf46c82f43d",
   "metadata": {},
   "source": [
    "Image(filename='./images/soda_cloud_failed_rows.png')"
   ],
   "outputs": [],
   "execution_count": null
  },
  {
   "cell_type": "code",
   "id": "63bcb99d-35cc-4e04-8937-8b3a49e2c2f2",
   "metadata": {},
   "source": [
    "Image(filename='./images/soda_cloud_schema_check.png') "
   ],
   "outputs": [],
   "execution_count": null
  },
  {
   "cell_type": "markdown",
   "id": "6a57fe17-588a-46e1-b021-23b5e062695d",
   "metadata": {},
   "source": [
    "### Scan Results speichern\n",
    "- Um alle Informationen des Scan Results zu erhalten, kann die Methode `get_scan_results()` verwendet werden\n",
    "- Diese Informationen können dann an beliebigen Orten gespeichert werden"
   ]
  },
  {
   "cell_type": "code",
   "id": "5acdb9a1-2e28-4700-a94c-cfa18ae5d1b2",
   "metadata": {
    "scrolled": true
   },
   "source": [
    "scan.get_scan_results()"
   ],
   "outputs": [],
   "execution_count": null
  },
  {
   "cell_type": "markdown",
   "id": "14798a81-dd60-4e53-8d56-20f54ec0caaf",
   "metadata": {},
   "source": [
    "### Weitere Methoden des scan Objekts\n",
    "- `scan.assert_no_error_logs()`, `scan.assert_no_checks_fail()`, `scan.assert_no_checks_warn_or_fail()`: AssertionError wird geworfen, falls der Scan Error-Logs / Check-Fails /Check-Fails und -Warnings enthält\n",
    "\n",
    "- `scan.has_error_logs()`: Gibt ein Boolean Wert zurück, der beschreibt, ob das Log Errors beinhaltet (hilfreich, wenn man Code Blöcke ausführen möchte, die nur ausgeführt werden sollte, falls das Log Fehler enthält)\n",
    "- `scan.get_error_logs_text()`: Gibt den Log Text zurück, falls das Log Errors beinhaltet\n",
    "\n",
    "- `scan.get_checks_fail()`, `scan.get_checks_warn_or_fail()`: Gibt eine List zurück die alle fehlgeschlagene/warnende Checks als Objekte enthält. Auf ein Check-Objekt kann die Methode `get_dict()` angewendet werden, um alle Information des bestimmten Checks zu erhalten (siehe Beispiele unten)\n",
    "\n",
    "- `scan.get_checks_fail_text()`, `scan.get_checks_warn_or_fail_text()`: Gibt jeweils eine Beschreibung für alle fehlgeschlagene/warnende Checks als String zurück\n",
    "\n",
    "- `scan.has_check_fails()`, `scan.has_checks_warn_or_fail()`: Gibt ein Boolean Wert zurück, der beschreibt, ob der Scan fehlgeschlagene/warnende Checks durchgeführt hat (hilfreich, wenn man Code Blöcke ausführen möchte, die nur ausgeführt werden sollte, falls der Scan Checks mit Fehler/Warnungen enthält)\n",
    "\n",
    "- `scan.get_all_checks_text()`: Gibt jeweils eine Beschreibung für alle durchgeführten Checks als String zurück"
   ]
  },
  {
   "cell_type": "markdown",
   "id": "d413b414-fee9-4097-8d2d-beeb36b001e7",
   "metadata": {},
   "source": [
    "### Mehr Informationen aus einzelne fail und warn Ergebnisse bekommen\n",
    "- auf ein Check Objekt (enthalten in der Liste zurückgegeben durch z.B. `scan.get_checks_warn_or_fail_text()` Methode) kann die Methode `get_dict()` angewendet werden, um alle Information des Checks zu erhalten\n",
    "- Diese Informationen können an beliebigen Orten gespeichert oder auch weiterverarbeitet werden"
   ]
  },
  {
   "cell_type": "markdown",
   "id": "9cb191dd-bcd4-4089-81bc-6bc176c46bf6",
   "metadata": {},
   "source": [
    "#### Beispiel 1: Information des Custom Checks\n",
    "- hier sind bspw. Information wie `totalRowCount` (Anzahl fehlgeschlagener Einträge) dabei, die im Log nicht angezeigt werden"
   ]
  },
  {
   "cell_type": "code",
   "id": "abd9ac02-ac08-4e82-8ce4-ca26dbb3a524",
   "metadata": {},
   "source": [
    "scan.get_checks_warn_or_fail()[0].get_dict()"
   ],
   "outputs": [],
   "execution_count": null
  },
  {
   "cell_type": "markdown",
   "id": "0d5ca4fd-fa3b-4f6f-bbbe-f882b5cb29cb",
   "metadata": {},
   "source": [
    "#### Beispiel 2: Information des Schema Checks\n",
    "- `column_type_mismatches` enthält hier ausführliche Information, welche Spalte die definierte Bedingungen nicht erfüllt"
   ]
  },
  {
   "cell_type": "code",
   "id": "80fff7f6-7478-4c88-a72c-77e5b0ac5a83",
   "metadata": {},
   "source": [
    "scan.get_checks_warn_or_fail()[1].get_dict()"
   ],
   "outputs": [],
   "execution_count": null
  },
  {
   "cell_type": "markdown",
   "id": "0d26868c-b62a-46d5-8b85-0d474be82657",
   "metadata": {},
   "source": [
    "## Failed Row sampes als output visualisieren (statt nur in Soda Cloud anzuzeigen)\n",
    "- Dateneinträge, die den Check nicht erfüllt haben, können in der Regel nur in der Soda Cloud angesehen werden\n",
    "- Um Lokal Zugriff auf diese Einträge zu bekommen, ist es möglich eine `CustomSampler` Klasse zu erstellen, die den Standard `Sampler` anpasst\n",
    "    - Im Beispiel werden die Einträge in ein Pandas Dataframe überführt und danach als eine CSV Datei gespeichert (separat für alle definierten Checks; hier nur eine Datei als Ergebnis, da nur ein Failed rows check definiert wurde)\n",
    "    - Hier werden 2 weitere Spalten `failed_check` (Name des definierten Checks) und `created_at` hinzugefügt (hilfreich, wenn man alle erstellten CSV in ein Dataframe kombinieren möchte)\n",
    "    - Mit `scan.sampler = CustomSampler()` wird der CustomSampler statt den Standard-Sampler verwendet"
   ]
  },
  {
   "cell_type": "code",
   "id": "14a5e4ef-96ea-4925-9dc8-3fcbd7ab9041",
   "metadata": {},
   "source": [
    "failed_rows_cloud = \"false\"\n",
    "\n",
    "class CustomSampler(Sampler):\n",
    "\n",
    "    def store_sample(self, sample_context: SampleContext):\n",
    "        rows = sample_context.sample.get_rows()\n",
    "        json_data = json.dumps(rows) # Convert failed rows to JSON\n",
    "        exceptions_df = pd.read_json(json_data) #create dataframe with failed rows\n",
    "        # Define exceptions dataframe\n",
    "        exceptions_schema = sample_context.sample.get_schema().get_dict()\n",
    "        exception_df_schema = []\n",
    "        for n in exceptions_schema:\n",
    "            exception_df_schema.append(n[\"name\"])\n",
    "        exceptions_df.columns = exception_df_schema\n",
    "        check_name = sample_context.check_name\n",
    "        exceptions_df['failed_check'] = check_name\n",
    "        exceptions_df['created_at'] = datetime.now()\n",
    "        exceptions_df.to_csv(check_name+\".csv\", sep=\",\", index=False, encoding=\"utf-8\")\n",
    "\n",
    "scan = Scan()\n",
    "\n",
    "if failed_rows_cloud == \"false\":\n",
    "    scan.sampler = CustomSampler()\n",
    "\n",
    "scan.set_scan_definition_name(\"soda_demo\")\n",
    "scan.set_data_source_name(\"demo_datasource\")\n",
    "\n",
    "# Add config yml file\n",
    "scan.add_configuration_yaml_file(file_path=\"./configuration.yml\")\n",
    "\n",
    "# Add variables\n",
    "scan.add_variables({\"NOW\": \"2021-09-13 00:00:00\"})\n",
    "\n",
    "# Add check YAML files \n",
    "scan.add_sodacl_yaml_file(\"./demo_tests.yml\")\n",
    "\n",
    "# Execute the scan\n",
    "exit_code = scan.execute()\n",
    "print(\"Exit code:\", exit_code)\n",
    "\n",
    "# Set logs to verbose mode, equivalent to CLI -V option\n",
    "scan.set_verbose(True)\n",
    "\n",
    "# Print results of scan\n",
    "print(scan.get_logs_text())"
   ],
   "outputs": [],
   "execution_count": null
  },
  {
   "cell_type": "code",
   "id": "d5595866-8632-43af-a2aa-fe10485d0842",
   "metadata": {},
   "source": [
    "fail_df = pd.read_csv('./last_updated_on_after_created_on = 0.csv')\n",
    "fail_df"
   ],
   "outputs": [],
   "execution_count": null
  },
  {
   "cell_type": "markdown",
   "id": "61c37077-cf88-445f-984c-3016dc505ff7",
   "metadata": {},
   "source": [
    "## Soda Cloud"
   ]
  },
  {
   "cell_type": "markdown",
   "id": "57190652-50cb-4993-884e-a3c30ad12dae",
   "metadata": {},
   "source": [
    "### Soda hosten\n",
    "- Soda Agents werden benutzt, um Datenvalidierung und -monitoring auszuführen\n",
    "- Es gibt 2 unterschiedliche Arten, um Soda Agents zu hosten und managen:\n",
    "- `Soda-hosted Agent` (Standard):\n",
    "    - Infrastruktur ist verwaltet bei Soda -> Soda kümmert sich um Setup, Maintenance und Skalierung des Agenten\n",
    "    - **Vorteile**:\n",
    "        - Einfache Nutzung: nicht nötig um sich um die Infrastruktur zu kümmern\n",
    "        - Kosten werden berechnet nach Nutzung (möglicherweise mehr Kosten als Self-hosted Agent nach Nutzung)\n",
    "    - **Nachteile**\n",
    "        - Infrastruktur nicht anpassbar nach Compliance\n",
    "- `Self-hosted Agent`:\n",
    "    - Infrastruktur wird durch den User verwaltet\n",
    "    - **Vorteile**:\n",
    "        - Mehr Flexibilität und Kontrolle: Agents beliebig anpassbar\n",
    "        - Sicherheit: volle Kontrolle über die Infrastruktur (anpassbar nach Compliance)\n",
    "    - **Nachteile**\n",
    "        - Kosten um die Infrastruktur zu managen\n",
    "        - Updates und Maintenance müssen von User verwaltet werden   "
   ]
  },
  {
   "cell_type": "markdown",
   "id": "7c70d639-9a2e-4c73-9d6a-4e01cb04fc71",
   "metadata": {},
   "source": [
    "### Andere wichtige Features von Soda (Soda Cloud)\n",
    "- `Data Profiling`: detailliertes Profiling von Daten inkl. Statistiken wie Distribution, Uniqueness, Null Values etc. generieren\n",
    "- `Alert Notifications` konfigurieren: Alerts können nach konfigurierbaren Bedingungen an verschidene Kanäle (wie Email, Slack etc.) gesendet werden\n",
    "- `Scheduled Scans`: Automatisieren von Ausführung von Scans\n",
    "- `Data source support`: support verschiederner Data sources wie BigQuery, Snowflake, Databricks, MYSQL, PostgreSQL etc.\n",
    "- `Check suggestions`: Für bestimmte Data sources (GCP BigQuery, PostgresSQL, Snowflake) ist es möglich Vorschläge für mögliche Checks, die berücksichtigt werden könnten, zu erhalten\n",
    "- `Soda in andere Tools integrieren` (Jira, Github, dbt, etc.): z.B. Soda GitHub Action kann in GitHub Workflow integriert werden um automatisch Scans auszuführen\n",
    "- `Soda GPT` in Soda Cloud Account: Interactiver Chatbot um Soda Checks zu schreiben\n",
    "- `Anpassbare Dashboards`: bspw. kann das Anomaly Dashboard aktiviert werden mit Funtionen wie:\n",
    "    - **Proactive Issue Detection**: Frühere Entdeckung pontenzieller Probleme bevor sie auftreten\n",
    "    - **Montoring von Data Quality**: Monitoring und idenfizieren von Anomalien in Daten\n",
    "    - **Visualisierung und Interaktionen zwischen Team-Mitglieder**\n",
    "- `Roles` und `rights` um Zugriffsrechte zu verwalten:\n",
    "    - **Admin**: Voller Zugriff und Kontrolle (inkl. User und Configuration Management) im Platform\n",
    "    - **Editor**: Erzeugen und Managen von Data Quality Checks und Dashboards\n",
    "    - **Viewer**: Read-only Zugriff auf Reports, Dashboards, Data Profiles\n",
    "    - **Guest**: View-only Zugriff auf nur bestimmte Reports und Dashboards, die mit denen geteilt wurden\n",
    "    - **Custom**: Flexibel definierbarer Rolle"
   ]
  },
  {
   "cell_type": "markdown",
   "id": "09aa4561-58be-4cf4-a651-edcd6b941ebd",
   "metadata": {},
   "source": [
    "### Usecases von Soda\n",
    "#### Daten testen in einer Pipeline\n",
    "- **Bsp. Ausgangssituation**:\n",
    "    - Data Engineers verwenden dbt um Models aus Daten zu generieren und diese Models zu transformieren und in ein Reporting- und Visualisierungstool zu pushen \n",
    "    - Airflow wird für Scheduling und Monitoring von Workflows (inkl. Data Ingestion und Transformation Events) verwendet\n",
    "- Scan für Data Quality Checks ausführen nach Events und bevor Informationen in ein Reporting Tool gepusht werden\n",
    "- Falls Scan Ergebnisse Probleme anzeigen, kann Soda die Entwickler direkt notifizieren und die Pipeline stoppen\n",
    "- Verhindert, dass die Data Quality Probleme, Probleme in Reporting verursachen\n",
    "\n",
    "#### Daten testen bevor Migration\n",
    "- Bsp. Daten werden von einer Data source zu einer anderen Data source migriert (z.B. von PostgreSQL nach Snowflake)\n",
    "- Soda kann Reconciliation Checks (Abstimmungschecks) verwenden, um Data Quality bevor und nach Migration zu vergleichen\n",
    "\n",
    "#### Daten testen während Development\n",
    "- **Bsp. Ausgangssituation**:\n",
    "    - Entwicklerteam verwenden GitHub für ein dbt Projekt, um Daten Ingestion und Transformation zu managen\n",
    "    - Für Data Quality Tests wurden YAML Files mit SodaCL Checks erstellt\n",
    "- In GitHub Action Workflow kann Soda Scans integriert werden, um die Data Quality nach jeden Pull Request, Commit etc. auszuführen"
   ]
  }
 ],
 "metadata": {
  "kernelspec": {
   "display_name": "Python 3 (ipykernel)",
   "language": "python",
   "name": "python3"
  },
  "language_info": {
   "codemirror_mode": {
    "name": "ipython",
    "version": 3
   },
   "file_extension": ".py",
   "mimetype": "text/x-python",
   "name": "python",
   "nbconvert_exporter": "python",
   "pygments_lexer": "ipython3",
   "version": "3.10.12"
  }
 },
 "nbformat": 4,
 "nbformat_minor": 5
}
